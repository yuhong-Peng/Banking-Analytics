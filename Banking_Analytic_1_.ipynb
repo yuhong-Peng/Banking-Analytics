{
  "nbformat": 4,
  "nbformat_minor": 0,
  "metadata": {
    "colab": {
      "name": "Banking Analytic 1 .ipynb",
      "provenance": [],
      "include_colab_link": true
    },
    "kernelspec": {
      "name": "python3",
      "display_name": "Python 3"
    }
  },
  "cells": [
    {
      "cell_type": "markdown",
      "metadata": {
        "id": "view-in-github",
        "colab_type": "text"
      },
      "source": [
        "<a href=\"https://colab.research.google.com/github/yuhong-Peng/Banking-Analytics/blob/master/Banking_Analytic_1_.ipynb\" target=\"_parent\"><img src=\"https://colab.research.google.com/assets/colab-badge.svg\" alt=\"Open In Colab\"/></a>"
      ]
    },
    {
      "cell_type": "code",
      "metadata": {
        "id": "Plxpx7DF4iVf",
        "colab_type": "code",
        "colab": {}
      },
      "source": [
        "import pandas as pd\n",
        "import numpy as nu\n",
        "Bond=pd.read_excel(r'C:\\Users\\彭宇鸿\\Desktop\\Dataset.xlsx',sheet_name='Bond')\n",
        "Mortgage=pd.read_excel(r'C:\\Users\\彭宇鸿\\Desktop\\Dataset.xlsx',sheet_name='Mortgage')\n",
        "RetailLoan=pd.read_excel(r'C:\\Users\\彭宇鸿\\Desktop\\Dataset.xlsx',sheet_name='RetailLoan')"
      ],
      "execution_count": 0,
      "outputs": []
    },
    {
      "cell_type": "markdown",
      "metadata": {
        "id": "vtkyC9v34v3h",
        "colab_type": "text"
      },
      "source": [
        "##Question1"
      ]
    },
    {
      "cell_type": "markdown",
      "metadata": {
        "id": "QhYKCPKbI8yk",
        "colab_type": "text"
      },
      "source": [
        "Considering the Risk free rate changes during the period, so the present value of the coupon should be discounted back with different risk free rate."
      ]
    },
    {
      "cell_type": "code",
      "metadata": {
        "id": "_iVMtyzw4tR4",
        "colab_type": "code",
        "colab": {}
      },
      "source": [
        "#interest rate from the 9-25\n",
        "#BondPrice=[]\n",
        "#y=[0.0159,0.0146,0.0140,0.0154]\n",
        "#length=len(Bond.id)\n",
        "#i=0\n",
        "#while i<length:\n",
        "    #if (Bond.Time2Maturity[i]>10):\n",
        "    #    yieldreturn=y[3]\n",
        "    #elif(Bond.Time2Maturity[i]>5)and(Bond.Time2Maturity[i]<=10):\n",
        "     #   yieldreturn=y[2]\n",
        "    #elif(Bond.Time2Maturity[i]>3)and(Bond.Time2Maturity[i]<=5):\n",
        "    #    yieldreturn=y[1]\n",
        "    #else:\n",
        "    #    yieldreturn=y[0]\n",
        "    #if Bond.CouponsRemaining[i]==0:\n",
        "    #    payyearly=0\n",
        "    #    r=yieldreturn\n",
        "    #    t=Bond.Time2Maturity[i]\n",
        "    #else:\n",
        "    #    payyearly=Bond.Time2Maturity[i]/Bond.CouponsRemaining[i]#coupon payment per year\n",
        "    #    r=(1+yieldreturn)**(payyearly)-1 #effective interest rate\n",
        "    #    t=Bond.CouponsRemaining[i]#time  remaining\n",
        "    #couponpay=Bond.Principal[i]*Bond.YearlyRate[i]*0.01*payyearly#coupon payment per time \n",
        "    #bondprice=couponpay*(1/r-1/(r*(1+r)**t))+Bond.Principal[i]/(1+r)**t#formula to calculate the bond price\n",
        "    #BondPrice.append(bondprice)\n",
        "    #i=1+i"
      ],
      "execution_count": 0,
      "outputs": []
    },
    {
      "cell_type": "code",
      "metadata": {
        "id": "93a1qxJgBb_z",
        "colab_type": "code",
        "colab": {}
      },
      "source": [
        "#interest rate from the 9-25\n",
        "Princepledis=[]\n",
        "y=[0.0159,0.0146,0.0140,0.0154]\n",
        "length=len(Bond.id)\n",
        "i=0\n",
        "while i<length:\n",
        "    if (Bond.Time2Maturity[i]>10):\n",
        "        yieldreturn=y[3]\n",
        "    elif(Bond.Time2Maturity[i]>5)and(Bond.Time2Maturity[i]<=10):\n",
        "        yieldreturn=y[2]\n",
        "    elif(Bond.Time2Maturity[i]>3)and(Bond.Time2Maturity[i]<=5):\n",
        "        yieldreturn=y[1]\n",
        "    else:\n",
        "        yieldreturn=y[0]\n",
        "    #formula to calculate the discounted bond principle\n",
        "    bondprice1=(Bond.Principal[i]/(1+yieldreturn)**Bond.Time2Maturity[i])\n",
        "    Princepledis.append(bondprice1)\n",
        "    i=i+1"
      ],
      "execution_count": 0,
      "outputs": []
    },
    {
      "cell_type": "markdown",
      "metadata": {
        "id": "xmdmQEtVypwZ",
        "colab_type": "text"
      },
      "source": [
        "calculate the discounted coupon with varied interest rate"
      ]
    },
    {
      "cell_type": "code",
      "metadata": {
        "id": "9VHWW8Uui-Fv",
        "colab_type": "code",
        "colab": {}
      },
      "source": [
        "coupondis=[]\n",
        "y=[0.0159,0.0146,0.0140,0.0154]\n",
        "length=len(Bond.id)\n",
        "i=0\n",
        "cou=0\n",
        "while i<length:\n",
        "  #formula to calculate the present value of coupon\n",
        "    if Bond.CouponsRemaining[i]==0:\n",
        "        payyearly=1\n",
        "        factor=0\n",
        "        t=Bond.Time2Maturity[i]\n",
        "    else:\n",
        "        payyearly=Bond.Time2Maturity[i]/Bond.CouponsRemaining[i]#coupon payment per year\n",
        "        t=Bond.CouponsRemaining[i]#time  remaining\n",
        "        factor=1\n",
        "    couponpay=Bond.Principal[i]*Bond.YearlyRate[i]*0.01*payyearly*factor\n",
        "    rten=(1+y[3])**(payyearly)-1\n",
        "    rfive=(1+y[2])**(payyearly)-1\n",
        "    rthree=(1+y[1])**(payyearly)-1\n",
        "    rone=(1+y[0])**(payyearly)-1\n",
        "    t1=10//payyearly\n",
        "    t2=5//payyearly\n",
        "    t3=3//payyearly\n",
        "    if (Bond.Time2Maturity[i]>10):\n",
        "        cou=couponpay*((1-(1+rten)**(t1-t))/rten)*(1+rten)**(-t1)+couponpay*((1-(1+rfive)**(t2-t1))/rfive)*(1+rfive)**(-t2)+couponpay*((1-(1+rthree)**(t3-t2))/rthree)*(1+rthree)**(-t3)+couponpay*((1-(1+rone)**(-t3))/rone)\n",
        "    elif(Bond.Time2Maturity[i]>5)and(Bond.Time2Maturity[i]<=10):\n",
        "        cou=couponpay*((1-(1+rfive)**(t2-t1))/rfive)*(1+rfive)**(-t2)+couponpay*((1-(1+rthree)**(t3-t2))/rthree)*(1+rthree)**(-t3)+couponpay*((1-(1+rone)**(-t3))/rone)\n",
        "    elif(Bond.Time2Maturity[i]>3)and(Bond.Time2Maturity[i]<=5):\n",
        "        cou=couponpay*((1-(1+rthree)**(t3-t2))/rthree)*(1+rthree)**(-t3)+couponpay*((1-(1+rone)**(-t3))/rone)\n",
        "    else:\n",
        "        cou=couponpay*((1-(1+rone)**(-t3))/rone)\n",
        "    coupondis.append(cou)\n",
        "    i=i+1\n"
      ],
      "execution_count": 0,
      "outputs": []
    },
    {
      "cell_type": "code",
      "metadata": {
        "id": "R7V7M8YiydEP",
        "colab_type": "code",
        "colab": {}
      },
      "source": [
        "BondPrice=coupondis+Princepledis"
      ],
      "execution_count": 0,
      "outputs": []
    },
    {
      "cell_type": "code",
      "metadata": {
        "id": "HupFAYQS44xN",
        "colab_type": "code",
        "colab": {}
      },
      "source": [
        "#TotalBondprice\n",
        "TotalBondprice=sum(BondPrice*Bond.BondsHeld)/100\n",
        "print(TotalBondprice)"
      ],
      "execution_count": 0,
      "outputs": []
    },
    {
      "cell_type": "markdown",
      "metadata": {
        "id": "aWtNreQR5G5F",
        "colab_type": "text"
      },
      "source": [
        "##Question2 "
      ]
    },
    {
      "cell_type": "code",
      "metadata": {
        "id": "oka3joNz5CZk",
        "colab_type": "code",
        "colab": {}
      },
      "source": [
        "#question 2\n",
        "#define functions to calculate the capital K for each instrument\n",
        "def capital_requirement_retail(PD, LGD):\n",
        "    import numpy as np\n",
        "    from scipy.stats import norm\n",
        "    R =  0.03 * ( (1 - np.exp(-35 * PD)) / (1 - np.exp(-35)) ) \n",
        "    R += 0.16 * (1 - ( (1 - np.exp(-35 * PD)) / (1 - np.exp(-35)) ) )\n",
        "    K = norm.cdf(np.sqrt( (1 - R) ** (-1) ) * norm.ppf(PD) + \n",
        "               np.sqrt( R / (1 - R) ) * norm.ppf(0.999) ) - PD\n",
        "    K *= LGD\n",
        "    return(K) \n",
        "import math\n",
        "def capital_requirement_Bond(PD, LGD):\n",
        "    import numpy as np\n",
        "    from scipy.stats import norm\n",
        "    R =  0.12 * ( (1 - np.exp(-50 * PD)) / (1 - np.exp(-50)) ) \n",
        "    R += 0.24 * (1 - ( (1 - np.exp(-50 * PD)) / (1 - np.exp(-50)) ) )\n",
        "    K = norm.cdf(np.sqrt( (1 - R) ** (-1) ) * norm.ppf(PD) + \n",
        "               np.sqrt( R / (1 - R) ) * norm.ppf(0.999) ) - PD\n",
        "    K *= LGD\n",
        "    return(K) \n",
        "def capital_requirement_Mortgage(PD, LGD):\n",
        "    import numpy as np\n",
        "    from scipy.stats import norm\n",
        "    R=0.15\n",
        "    K = norm.cdf(np.sqrt( (1 - R) ** (-1) ) * norm.ppf(PD) + \n",
        "               np.sqrt( R / (1 - R) ) * norm.ppf(0.999) ) - PD\n",
        "    K *= LGD\n",
        "    return(K) "
      ],
      "execution_count": 0,
      "outputs": []
    },
    {
      "cell_type": "code",
      "metadata": {
        "id": "TwxsZsyY5YCM",
        "colab_type": "code",
        "colab": {}
      },
      "source": [
        "#loop to get each K for bond\n",
        "j=0\n",
        "KBond=[]\n",
        "BondPD=[]\n",
        "while j<178502:\n",
        "    if Bond.PD[j]<=0.0003:\n",
        "        PD=0.0003\n",
        "    else:\n",
        "        PD=Bond.PD[j]\n",
        "    LGD=0.75\n",
        "    M=(1+(Bond.Time2Maturity[j]-2.5)*(0.11852-0.05478*nu.log(PD))**2)/(1-1.5*(0.11852-0.05478*nu.log(PD))**2)\n",
        "    Kbond=capital_requirement_Bond(PD, LGD)*M\n",
        "    KBond.append(Kbond)\n",
        "    BondPD.append(PD)\n",
        "    j=j+1"
      ],
      "execution_count": 0,
      "outputs": []
    },
    {
      "cell_type": "code",
      "metadata": {
        "id": "pUmut32K5ayk",
        "colab_type": "code",
        "colab": {}
      },
      "source": [
        "#expected loss of bond\n",
        "BondEAD=BondPrice*Bond.BondsHeld\n",
        "ELBond=sum(BondEAD*BondPD)*0.75\n",
        "print(ELBond)\n",
        "#capital  requirement of Bond\n",
        "cpBond=sum(BondEAD*KBond)*12.5*0.115\n",
        "print(cpBond)"
      ],
      "execution_count": 0,
      "outputs": []
    },
    {
      "cell_type": "code",
      "metadata": {
        "id": "I06ARO6T68dt",
        "colab_type": "code",
        "colab": {}
      },
      "source": [
        "print(KBond[0:10])"
      ],
      "execution_count": 0,
      "outputs": []
    },
    {
      "cell_type": "code",
      "metadata": {
        "id": "C6tUvmcm8VBl",
        "colab_type": "code",
        "colab": {}
      },
      "source": [
        "#loop to calculate K for Mortgage\n",
        "j=0\n",
        "KMortgage=[]\n",
        "MortgagePD=[]\n",
        "MortgageLGD=[]\n",
        "while j<=28462:\n",
        "    if Mortgage.PD[j]<0.0003:\n",
        "        PD=0.0003\n",
        "    else:\n",
        "        PD=Mortgage.PD[j]\n",
        "    if Mortgage.LGD[j]<0.05:\n",
        "        LGD=0.05\n",
        "    else:\n",
        "        LGD=Mortgage.LGD[j]\n",
        "    Kmortgage=capital_requirement_Mortgage(PD, LGD)\n",
        "    KMortgage.append(Kmortgage)\n",
        "    MortgagePD.append(PD)\n",
        "    MortgageLGD.append(LGD)\n",
        "    j=j+1\n"
      ],
      "execution_count": 0,
      "outputs": []
    },
    {
      "cell_type": "code",
      "metadata": {
        "id": "f4z2vqXU9RZC",
        "colab_type": "code",
        "colab": {}
      },
      "source": [
        "#EAD of Mortgage\n",
        "EADMortgage=[]\n",
        "j=0\n",
        "while j<=28462:\n",
        "    r=(1+Mortgage.Rate[j])**(1/12)-1\n",
        "    Mpay=(r*Mortgage.OriginalAmount[j])/(1-(1+r)**(-Mortgage.TermYears[j]*12))\n",
        "    Balance=Mpay*(1-(1+r)**(Mortgage.CurrentInstallment[j]-Mortgage.TermYears[j]*12))/r\n",
        "    if Balance>Mortgage.Collateral_valuation[j]:\n",
        "        EAD=Balance-Mortgage.Collateral_valuation[j]\n",
        "    else:\n",
        "        EAD=0\n",
        "    EADMortgage.append(EAD)\n",
        "    j=j+1\n"
      ],
      "execution_count": 0,
      "outputs": []
    },
    {
      "cell_type": "code",
      "metadata": {
        "id": "UaGDif-K9RV5",
        "colab_type": "code",
        "colab": {}
      },
      "source": [
        "print(EADMortgage[0:10])\n",
        "print(sum(EADMortgage))"
      ],
      "execution_count": 0,
      "outputs": []
    },
    {
      "cell_type": "code",
      "metadata": {
        "id": "52hkluCW9RS3",
        "colab_type": "code",
        "colab": {}
      },
      "source": [
        "#expected loss of Mortgage\n",
        "j=0\n",
        "ELMortgage=[]\n",
        "while j<28462:\n",
        "    ELM=EADMortgage[j]*MortgagePD[j]*MortgageLGD[j]\n",
        "    ELMortgage.append(ELM)\n",
        "    j=j+1\n",
        "print(sum(ELMortgage))\n",
        "#capital requirement of Mortgage\n",
        "j=0\n",
        "cpMortgage=[]\n",
        "while j<28462:\n",
        "    cpM=EADMortgage[j]*KMortgage[j]*12.5*0.115\n",
        "    cpMortgage.append(cpM)\n",
        "    j=j+1\n",
        "print(sum(cpMortgage))"
      ],
      "execution_count": 0,
      "outputs": []
    },
    {
      "cell_type": "code",
      "metadata": {
        "id": "Aghl5LaK9RQB",
        "colab_type": "code",
        "colab": {}
      },
      "source": [
        "#loop to calculate K for RetailLoan\n",
        "j=0\n",
        "KRetailLoan=[]\n",
        "RetailLoanPD=[]\n",
        "while j<=21536:\n",
        "    if RetailLoan.PD[j]<0.0003:\n",
        "        PD=0.0003\n",
        "    else:\n",
        "        PD=RetailLoan.PD[j]\n",
        "    LGD=1\n",
        "    KRetailloan=capital_requirement_retail(PD, LGD)\n",
        "    KRetailLoan.append(KRetailloan)\n",
        "    RetailLoanPD.append(PD)\n",
        "    j=j+1"
      ],
      "execution_count": 0,
      "outputs": []
    },
    {
      "cell_type": "code",
      "metadata": {
        "id": "J5DRY_Hf9RNW",
        "colab_type": "code",
        "colab": {}
      },
      "source": [
        "print(RetailLoanPD[0:10])"
      ],
      "execution_count": 0,
      "outputs": []
    },
    {
      "cell_type": "code",
      "metadata": {
        "id": "dz2XGpi19k6F",
        "colab_type": "code",
        "colab": {}
      },
      "source": [
        "#EAD of Loan\n",
        "j=0\n",
        "EADLoan=[]\n",
        "while j<=21536:\n",
        "    r=(1+RetailLoan.YearlyInterestRate[j])**(1/12)-1\n",
        "    Mpay=(r*RetailLoan.OriginalAmount[j])/(1-(1+r)**(-RetailLoan.Term[j]))\n",
        "    Balance=Mpay*(1-(1+r)**(RetailLoan.CurrentInstallment[j]-RetailLoan.Term[j]))/r\n",
        "    EADLoan.append(Balance)\n",
        "    j=j+1"
      ],
      "execution_count": 0,
      "outputs": []
    },
    {
      "cell_type": "code",
      "metadata": {
        "id": "MYmLuEyH9kxP",
        "colab_type": "code",
        "colab": {}
      },
      "source": [
        "print(sum(EADLoan))"
      ],
      "execution_count": 0,
      "outputs": []
    },
    {
      "cell_type": "code",
      "metadata": {
        "id": "MSX-9nsF9naQ",
        "colab_type": "code",
        "colab": {}
      },
      "source": [
        "#Expected loss of RetailLoan\n",
        "j=0\n",
        "ELRetailLoan=[]\n",
        "while j<=21536:\n",
        "    EL=RetailLoanPD[j]*EADLoan[j]\n",
        "    ELRetailLoan.append(EL)\n",
        "    j=j+1\n",
        "print(sum(ELRetailLoan))\n",
        "#capital requirement of RetailLoan\n",
        "j=0\n",
        "cpRetailLoan=[]\n",
        "while j<=21536:\n",
        "    cp=KRetailLoan[j]*EADLoan[j]*12.5*0.115\n",
        "    cpRetailLoan.append(cp)\n",
        "    j=j+1\n",
        "print(sum(cpRetailLoan))\n",
        "print(sum(EADLoan))"
      ],
      "execution_count": 0,
      "outputs": []
    },
    {
      "cell_type": "markdown",
      "metadata": {
        "id": "5HBaKxaU9t0l",
        "colab_type": "text"
      },
      "source": [
        "##Question 3"
      ]
    },
    {
      "cell_type": "markdown",
      "metadata": {
        "id": "mfIxD3ZZ-AfT",
        "colab_type": "text"
      },
      "source": [
        "Risk Weighted assets for Bond"
      ]
    },
    {
      "cell_type": "code",
      "metadata": {
        "id": "NXD4G8wc9qhZ",
        "colab_type": "code",
        "colab": {}
      },
      "source": [
        "#question 3 to get the RWA \n",
        "#first for Bond\n",
        "j=0\n",
        "RwaBond=[]\n",
        "while j<length:\n",
        "    if Bond.PD[j]<=0.01:\n",
        "        Rwa=0.2\n",
        "    elif Bond.PD[j]>0.01 and Bond.PD[j]<=0.12:\n",
        "        Rwa=0.5\n",
        "    elif Bond.PD[j]>0.12 and Bond.PD[j]<=0.52:\n",
        "        Rwa=1\n",
        "    else:\n",
        "        Rwa=1.5\n",
        "    RwaBond.append(Rwa)\n",
        "    j=j+1\n"
      ],
      "execution_count": 0,
      "outputs": []
    },
    {
      "cell_type": "code",
      "metadata": {
        "id": "CgTXip97916s",
        "colab_type": "code",
        "colab": {}
      },
      "source": [
        "#Risk wieghted asset\n",
        "RWABond=sum(BondEAD*RwaBond)\n",
        "print(RWABond)\n",
        "#regulatory\n",
        "j=0\n",
        "RegBond=[]\n",
        "while j<length:\n",
        "    RegB=BondEAD[j]*RwaBond[j]*0.115\n",
        "    RegBond.append(RegB)\n",
        "    j=j+1\n",
        "print(sum(RegBond))"
      ],
      "execution_count": 0,
      "outputs": []
    },
    {
      "cell_type": "markdown",
      "metadata": {
        "id": "rGS4mfrg-IE-",
        "colab_type": "text"
      },
      "source": [
        "Risk Weighted assets for Mortgage"
      ]
    },
    {
      "cell_type": "code",
      "metadata": {
        "id": "WDLeslQf91k4",
        "colab_type": "code",
        "colab": {}
      },
      "source": [
        "#second for the Mortgage\n",
        "j=0\n",
        "RwaMortgage=[]\n",
        "while j<=28462:\n",
        "    if Mortgage.OriginalAmount[j]/Mortgage.CurrentInstallment[j]<0.8:\n",
        "        rwamortgage=0.35\n",
        "    else:\n",
        "        rwamortgage=0.75\n",
        "    RwaMortgage.append(rwamortgage)\n",
        "    j=j+1\n",
        "#useless for later question"
      ],
      "execution_count": 0,
      "outputs": []
    },
    {
      "cell_type": "code",
      "metadata": {
        "id": "6cJ3_Sya91hd",
        "colab_type": "code",
        "colab": {}
      },
      "source": [
        "print(RwaMortgage[0:10])"
      ],
      "execution_count": 0,
      "outputs": []
    },
    {
      "cell_type": "code",
      "metadata": {
        "id": "LzVqkLS-91NO",
        "colab_type": "code",
        "colab": {}
      },
      "source": [
        "#RIsk wieghted asset \n",
        "j=0\n",
        "RWAMortgage=[]\n",
        "while j<28462:\n",
        "    RWAM=EADMortgage[j]*0.35\n",
        "    RWAMortgage.append(RWAM)\n",
        "    j=j+1\n",
        "print(sum(RWAMortgage))\n",
        "#Regulatory of Mortgage\n",
        "j=0\n",
        "RMortgage=[]\n",
        "while j<28462:\n",
        "    RM=EADMortgage[j]*0.35*0.115\n",
        "    RMortgage.append(RM)\n",
        "    j=j+1\n",
        "print(sum(RMortgage))"
      ],
      "execution_count": 0,
      "outputs": []
    },
    {
      "cell_type": "markdown",
      "metadata": {
        "id": "FahnK6Xd-YWv",
        "colab_type": "text"
      },
      "source": [
        "Risk Weighted asset for Rential Loan"
      ]
    },
    {
      "cell_type": "code",
      "metadata": {
        "id": "gnssm5Jy-fQL",
        "colab_type": "code",
        "colab": {}
      },
      "source": [
        "RwaRetailLoan=0.75"
      ],
      "execution_count": 0,
      "outputs": []
    },
    {
      "cell_type": "code",
      "metadata": {
        "id": "-2ndUZeE-fmQ",
        "colab_type": "code",
        "colab": {}
      },
      "source": [
        "#RWA of RetailLoan\n",
        "j=0\n",
        "RwaRetailLoan=[]\n",
        "while j<=21536:\n",
        "    RwaR=0.75*EADLoan[j]\n",
        "    RwaRetailLoan.append(RwaR)\n",
        "    j=j+1\n",
        "print(sum(RwaRetailLoan))"
      ],
      "execution_count": 0,
      "outputs": []
    },
    {
      "cell_type": "code",
      "metadata": {
        "id": "IbMRd4ce-fiA",
        "colab_type": "code",
        "colab": {}
      },
      "source": [
        "#Capital requirement of RetailLoan\n",
        "i=0\n",
        "RwaRetailLoan=[]\n",
        "while i<=21536:\n",
        "    RwaR=0.75*EADLoan[i]*0.115\n",
        "    RwaRetailLoan.append(RwaR)\n",
        "    i=i+1\n",
        "print(sum(RwaRetailLoan))"
      ],
      "execution_count": 0,
      "outputs": []
    },
    {
      "cell_type": "code",
      "metadata": {
        "id": "jS7Ph9Zi-ffp",
        "colab_type": "code",
        "colab": {}
      },
      "source": [
        ""
      ],
      "execution_count": 0,
      "outputs": []
    },
    {
      "cell_type": "code",
      "metadata": {
        "id": "X8BcAZLa-fc-",
        "colab_type": "code",
        "colab": {}
      },
      "source": [
        ""
      ],
      "execution_count": 0,
      "outputs": []
    }
  ]
}